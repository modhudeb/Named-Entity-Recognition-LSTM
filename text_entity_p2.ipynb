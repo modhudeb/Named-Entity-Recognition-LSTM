{
  "cells": [
    {
      "cell_type": "markdown",
      "metadata": {
        "id": "view-in-github",
        "colab_type": "text"
      },
      "source": [
        "<a href=\"https://colab.research.google.com/github/modhudeb/Named-Entity-Recognition-LSTM/blob/main/text_entity_p2.ipynb\" target=\"_parent\"><img src=\"https://colab.research.google.com/assets/colab-badge.svg\" alt=\"Open In Colab\"/></a>"
      ]
    },
    {
      "cell_type": "markdown",
      "metadata": {
        "id": "Com57EARNtVS"
      },
      "source": [
        "# Imports"
      ]
    },
    {
      "cell_type": "code",
      "execution_count": null,
      "metadata": {
        "id": "-cXjQ5YHX_j4",
        "colab": {
          "base_uri": "https://localhost:8080/"
        },
        "outputId": "ccfc97b7-e184-4764-c90f-c2a6d7c3edd3"
      },
      "outputs": [
        {
          "output_type": "stream",
          "name": "stdout",
          "text": [
            "Requirement already satisfied: contractions in /usr/local/lib/python3.10/dist-packages (0.1.73)\n",
            "Requirement already satisfied: textsearch>=0.0.21 in /usr/local/lib/python3.10/dist-packages (from contractions) (0.0.24)\n",
            "Requirement already satisfied: anyascii in /usr/local/lib/python3.10/dist-packages (from textsearch>=0.0.21->contractions) (0.3.2)\n",
            "Requirement already satisfied: pyahocorasick in /usr/local/lib/python3.10/dist-packages (from textsearch>=0.0.21->contractions) (2.0.0)\n"
          ]
        }
      ],
      "source": [
        "!pip install contractions"
      ]
    },
    {
      "cell_type": "code",
      "execution_count": null,
      "metadata": {
        "id": "bauEeT7zNoLB"
      },
      "outputs": [],
      "source": [
        "import numpy as np\n",
        "import pandas as pd\n",
        "import tensorflow as tf\n",
        "import tensorflow.keras as keras"
      ]
    },
    {
      "cell_type": "code",
      "execution_count": null,
      "metadata": {
        "id": "zia1H7DXnKC6"
      },
      "outputs": [],
      "source": [
        "from tensorflow.keras.preprocessing.sequence import pad_sequences\n",
        "from tensorflow.keras.callbacks import EarlyStopping\n",
        "from sklearn.metrics import classification_report"
      ]
    },
    {
      "cell_type": "code",
      "execution_count": null,
      "metadata": {
        "id": "Nt-U-BvlOd4R"
      },
      "outputs": [],
      "source": [
        "import os\n",
        "import gensim\n",
        "import contractions\n",
        "import re"
      ]
    },
    {
      "cell_type": "code",
      "execution_count": null,
      "metadata": {
        "id": "uy7MZ6cbOd0B"
      },
      "outputs": [],
      "source": [
        "from sklearn.preprocessing import LabelEncoder"
      ]
    },
    {
      "cell_type": "code",
      "execution_count": null,
      "metadata": {
        "id": "yTS7VdVkOe2Z"
      },
      "outputs": [],
      "source": [
        "import nltk\n",
        "from nltk.tokenize import word_tokenize\n",
        "from nltk.stem import WordNetLemmatizer"
      ]
    },
    {
      "cell_type": "code",
      "execution_count": null,
      "metadata": {
        "colab": {
          "base_uri": "https://localhost:8080/"
        },
        "id": "xZwXJ0dociFt",
        "outputId": "0306cf34-d079-427b-8047-9b0f188bef2b"
      },
      "outputs": [
        {
          "output_type": "stream",
          "name": "stderr",
          "text": [
            "[nltk_data] Downloading package punkt to /root/nltk_data...\n",
            "[nltk_data]   Package punkt is already up-to-date!\n",
            "[nltk_data] Downloading package wordnet to /root/nltk_data...\n",
            "[nltk_data]   Package wordnet is already up-to-date!\n"
          ]
        },
        {
          "output_type": "execute_result",
          "data": {
            "text/plain": [
              "True"
            ]
          },
          "metadata": {},
          "execution_count": 7
        }
      ],
      "source": [
        "nltk.download('punkt')\n",
        "nltk.download('wordnet')"
      ]
    },
    {
      "cell_type": "code",
      "execution_count": null,
      "metadata": {
        "id": "zMJK6rj2v_bG"
      },
      "outputs": [],
      "source": [
        "import warnings\n",
        "warnings.simplefilter(action='ignore', category=FutureWarning)"
      ]
    },
    {
      "cell_type": "markdown",
      "metadata": {
        "id": "I3EkiSPyOiXA"
      },
      "source": [
        "# Loading Data"
      ]
    },
    {
      "cell_type": "code",
      "execution_count": null,
      "metadata": {
        "id": "ww4ehumZOx9A"
      },
      "outputs": [],
      "source": [
        "os.chdir('drive/MyDrive/data')"
      ]
    },
    {
      "cell_type": "code",
      "execution_count": null,
      "metadata": {
        "id": "MOFWODOQOQzY"
      },
      "outputs": [],
      "source": [
        "data = pd.read_csv('merged_wiki_ner.csv')"
      ]
    },
    {
      "cell_type": "markdown",
      "metadata": {
        "id": "JoQjsm03PKdq"
      },
      "source": [
        "# Code"
      ]
    },
    {
      "cell_type": "markdown",
      "metadata": {
        "id": "sTIKJaH7FRNn"
      },
      "source": [
        "## Preprocess"
      ]
    },
    {
      "cell_type": "code",
      "execution_count": null,
      "metadata": {
        "colab": {
          "base_uri": "https://localhost:8080/"
        },
        "id": "2C0GvfTbPLlX",
        "outputId": "62e94cb0-640b-4681-b7e7-cde5aa2a1587"
      },
      "outputs": [
        {
          "output_type": "stream",
          "name": "stdout",
          "text": [
            "<class 'pandas.core.frame.DataFrame'>\n",
            "RangeIndex: 4548181 entries, 0 to 4548180\n",
            "Data columns (total 4 columns):\n",
            " #   Column     Dtype \n",
            "---  ------     ----- \n",
            " 0   sentences  int64 \n",
            " 1   words      object\n",
            " 2   POS        object\n",
            " 3   tags       object\n",
            "dtypes: int64(1), object(3)\n",
            "memory usage: 138.8+ MB\n"
          ]
        }
      ],
      "source": [
        "data.info()"
      ]
    },
    {
      "cell_type": "code",
      "source": [
        "data['tags'] = data['tags'].apply(lambda x : x.upper())\n",
        "data['tags'].unique()"
      ],
      "metadata": {
        "colab": {
          "base_uri": "https://localhost:8080/"
        },
        "id": "ED1ZTl0CYI8M",
        "outputId": "19d5a34c-6bfe-465b-b3f6-fcd697942d73"
      },
      "execution_count": null,
      "outputs": [
        {
          "output_type": "execute_result",
          "data": {
            "text/plain": [
              "array(['I-MISC', 'O', 'I-PER', 'I-ORG', 'I-LOC', 'B-MISC', 'B-PER',\n",
              "       'B-LOC', 'B-ORG', 'B-GEO', 'B-GPE', 'I-GEO', 'B-TIM', 'B-ART',\n",
              "       'I-ART', 'I-GPE', 'I-TIM', 'B-NAT', 'B-EVE', 'I-EVE', 'I-NAT'],\n",
              "      dtype=object)"
            ]
          },
          "metadata": {},
          "execution_count": 12
        }
      ]
    },
    {
      "cell_type": "code",
      "execution_count": null,
      "metadata": {
        "id": "dH0EftoVYEId"
      },
      "outputs": [],
      "source": [
        "# We don't need parts of speech\n",
        "data.drop(['POS'], axis = 1, inplace = True)\n",
        "\n",
        "# All sentences index\n",
        "sentInd = data['sentences'].unique()\n",
        "\n",
        " # Label encoding tags column\n",
        "encoder = LabelEncoder()\n",
        "data['tags_num'] = encoder.fit_transform(data['tags'])"
      ]
    },
    {
      "cell_type": "code",
      "execution_count": null,
      "metadata": {
        "colab": {
          "base_uri": "https://localhost:8080/"
        },
        "id": "-L65LdNfeFIR",
        "outputId": "da63a79b-7141-471b-ee48-06515b6585ba"
      },
      "outputs": [
        {
          "output_type": "execute_result",
          "data": {
            "text/plain": [
              "array([15, 20, 18, 17, 14,  5,  8,  4,  7,  2,  3, 12,  9,  0, 10, 13, 19,\n",
              "        6,  1, 11, 16])"
            ]
          },
          "metadata": {},
          "execution_count": 14
        }
      ],
      "source": [
        "tagsLabel = data['tags_num'].unique()\n",
        "tagsLabel"
      ]
    },
    {
      "cell_type": "code",
      "execution_count": null,
      "metadata": {
        "colab": {
          "base_uri": "https://localhost:8080/"
        },
        "id": "2JoPUxSc42II",
        "outputId": "dbd0e35e-7daf-4233-f179-d63a09407d36"
      },
      "outputs": [
        {
          "output_type": "execute_result",
          "data": {
            "text/plain": [
              "array(['I-MISC', 'O', 'I-PER', 'I-ORG', 'I-LOC', 'B-MISC', 'B-PER',\n",
              "       'B-LOC', 'B-ORG', 'B-GEO', 'B-GPE', 'I-GEO', 'B-TIM', 'B-ART',\n",
              "       'I-ART', 'I-GPE', 'I-TIM', 'B-NAT', 'B-EVE', 'I-EVE', 'I-NAT'],\n",
              "      dtype=object)"
            ]
          },
          "metadata": {},
          "execution_count": 15
        }
      ],
      "source": [
        "tagsName = data['tags'].unique()\n",
        "tagsName"
      ]
    },
    {
      "cell_type": "code",
      "execution_count": null,
      "metadata": {
        "colab": {
          "base_uri": "https://localhost:8080/"
        },
        "id": "wDMtB5iBlDdg",
        "outputId": "ff7e329b-5d0a-4f87-c50d-dbfc36d7bf59"
      },
      "outputs": [
        {
          "output_type": "execute_result",
          "data": {
            "text/plain": [
              "sentences      0\n",
              "words        957\n",
              "tags           0\n",
              "tags_num       0\n",
              "dtype: int64"
            ]
          },
          "metadata": {},
          "execution_count": 16
        }
      ],
      "source": [
        "# checking null\n",
        "data.isna().sum()"
      ]
    },
    {
      "cell_type": "code",
      "execution_count": null,
      "metadata": {
        "id": "Viku0mTnlSEA"
      },
      "outputs": [],
      "source": [
        "# removing null indices\n",
        "data.dropna(inplace = True)"
      ]
    },
    {
      "cell_type": "code",
      "execution_count": null,
      "metadata": {
        "id": "5xP99wwZVwo-"
      },
      "outputs": [],
      "source": [
        "df = data.groupby('sentences')"
      ]
    },
    {
      "cell_type": "code",
      "execution_count": null,
      "metadata": {
        "colab": {
          "base_uri": "https://localhost:8080/",
          "height": 582
        },
        "id": "SP4r8ID_dsfq",
        "outputId": "460ab93e-20ac-4fec-c0a9-e05c2500a1c6"
      },
      "outputs": [
        {
          "output_type": "execute_result",
          "data": {
            "text/plain": [
              "    sentences       words   tags  tags_num\n",
              "56          2        From      O        20\n",
              "57          2        this      O        20\n",
              "58          2     climate      O        20\n",
              "59          2     William  I-PER        18\n",
              "60          2      Godwin  I-PER        18\n",
              "61          2   developed      O        20\n",
              "62          2        what      O        20\n",
              "63          2        many      O        20\n",
              "64          2    consider      O        20\n",
              "65          2         the      O        20\n",
              "66          2       first      O        20\n",
              "67          2  expression      O        20\n",
              "68          2          of      O        20\n",
              "69          2      modern      O        20\n",
              "70          2   anarchist      O        20\n",
              "71          2     thought      O        20\n",
              "72          2           .      O        20"
            ],
            "text/html": [
              "\n",
              "\n",
              "  <div id=\"df-6b6aca4a-e9b2-4f12-9f1e-fb503dbe2a78\">\n",
              "    <div class=\"colab-df-container\">\n",
              "      <div>\n",
              "<style scoped>\n",
              "    .dataframe tbody tr th:only-of-type {\n",
              "        vertical-align: middle;\n",
              "    }\n",
              "\n",
              "    .dataframe tbody tr th {\n",
              "        vertical-align: top;\n",
              "    }\n",
              "\n",
              "    .dataframe thead th {\n",
              "        text-align: right;\n",
              "    }\n",
              "</style>\n",
              "<table border=\"1\" class=\"dataframe\">\n",
              "  <thead>\n",
              "    <tr style=\"text-align: right;\">\n",
              "      <th></th>\n",
              "      <th>sentences</th>\n",
              "      <th>words</th>\n",
              "      <th>tags</th>\n",
              "      <th>tags_num</th>\n",
              "    </tr>\n",
              "  </thead>\n",
              "  <tbody>\n",
              "    <tr>\n",
              "      <th>56</th>\n",
              "      <td>2</td>\n",
              "      <td>From</td>\n",
              "      <td>O</td>\n",
              "      <td>20</td>\n",
              "    </tr>\n",
              "    <tr>\n",
              "      <th>57</th>\n",
              "      <td>2</td>\n",
              "      <td>this</td>\n",
              "      <td>O</td>\n",
              "      <td>20</td>\n",
              "    </tr>\n",
              "    <tr>\n",
              "      <th>58</th>\n",
              "      <td>2</td>\n",
              "      <td>climate</td>\n",
              "      <td>O</td>\n",
              "      <td>20</td>\n",
              "    </tr>\n",
              "    <tr>\n",
              "      <th>59</th>\n",
              "      <td>2</td>\n",
              "      <td>William</td>\n",
              "      <td>I-PER</td>\n",
              "      <td>18</td>\n",
              "    </tr>\n",
              "    <tr>\n",
              "      <th>60</th>\n",
              "      <td>2</td>\n",
              "      <td>Godwin</td>\n",
              "      <td>I-PER</td>\n",
              "      <td>18</td>\n",
              "    </tr>\n",
              "    <tr>\n",
              "      <th>61</th>\n",
              "      <td>2</td>\n",
              "      <td>developed</td>\n",
              "      <td>O</td>\n",
              "      <td>20</td>\n",
              "    </tr>\n",
              "    <tr>\n",
              "      <th>62</th>\n",
              "      <td>2</td>\n",
              "      <td>what</td>\n",
              "      <td>O</td>\n",
              "      <td>20</td>\n",
              "    </tr>\n",
              "    <tr>\n",
              "      <th>63</th>\n",
              "      <td>2</td>\n",
              "      <td>many</td>\n",
              "      <td>O</td>\n",
              "      <td>20</td>\n",
              "    </tr>\n",
              "    <tr>\n",
              "      <th>64</th>\n",
              "      <td>2</td>\n",
              "      <td>consider</td>\n",
              "      <td>O</td>\n",
              "      <td>20</td>\n",
              "    </tr>\n",
              "    <tr>\n",
              "      <th>65</th>\n",
              "      <td>2</td>\n",
              "      <td>the</td>\n",
              "      <td>O</td>\n",
              "      <td>20</td>\n",
              "    </tr>\n",
              "    <tr>\n",
              "      <th>66</th>\n",
              "      <td>2</td>\n",
              "      <td>first</td>\n",
              "      <td>O</td>\n",
              "      <td>20</td>\n",
              "    </tr>\n",
              "    <tr>\n",
              "      <th>67</th>\n",
              "      <td>2</td>\n",
              "      <td>expression</td>\n",
              "      <td>O</td>\n",
              "      <td>20</td>\n",
              "    </tr>\n",
              "    <tr>\n",
              "      <th>68</th>\n",
              "      <td>2</td>\n",
              "      <td>of</td>\n",
              "      <td>O</td>\n",
              "      <td>20</td>\n",
              "    </tr>\n",
              "    <tr>\n",
              "      <th>69</th>\n",
              "      <td>2</td>\n",
              "      <td>modern</td>\n",
              "      <td>O</td>\n",
              "      <td>20</td>\n",
              "    </tr>\n",
              "    <tr>\n",
              "      <th>70</th>\n",
              "      <td>2</td>\n",
              "      <td>anarchist</td>\n",
              "      <td>O</td>\n",
              "      <td>20</td>\n",
              "    </tr>\n",
              "    <tr>\n",
              "      <th>71</th>\n",
              "      <td>2</td>\n",
              "      <td>thought</td>\n",
              "      <td>O</td>\n",
              "      <td>20</td>\n",
              "    </tr>\n",
              "    <tr>\n",
              "      <th>72</th>\n",
              "      <td>2</td>\n",
              "      <td>.</td>\n",
              "      <td>O</td>\n",
              "      <td>20</td>\n",
              "    </tr>\n",
              "  </tbody>\n",
              "</table>\n",
              "</div>\n",
              "      <button class=\"colab-df-convert\" onclick=\"convertToInteractive('df-6b6aca4a-e9b2-4f12-9f1e-fb503dbe2a78')\"\n",
              "              title=\"Convert this dataframe to an interactive table.\"\n",
              "              style=\"display:none;\">\n",
              "\n",
              "  <svg xmlns=\"http://www.w3.org/2000/svg\" height=\"24px\"viewBox=\"0 0 24 24\"\n",
              "       width=\"24px\">\n",
              "    <path d=\"M0 0h24v24H0V0z\" fill=\"none\"/>\n",
              "    <path d=\"M18.56 5.44l.94 2.06.94-2.06 2.06-.94-2.06-.94-.94-2.06-.94 2.06-2.06.94zm-11 1L8.5 8.5l.94-2.06 2.06-.94-2.06-.94L8.5 2.5l-.94 2.06-2.06.94zm10 10l.94 2.06.94-2.06 2.06-.94-2.06-.94-.94-2.06-.94 2.06-2.06.94z\"/><path d=\"M17.41 7.96l-1.37-1.37c-.4-.4-.92-.59-1.43-.59-.52 0-1.04.2-1.43.59L10.3 9.45l-7.72 7.72c-.78.78-.78 2.05 0 2.83L4 21.41c.39.39.9.59 1.41.59.51 0 1.02-.2 1.41-.59l7.78-7.78 2.81-2.81c.8-.78.8-2.07 0-2.86zM5.41 20L4 18.59l7.72-7.72 1.47 1.35L5.41 20z\"/>\n",
              "  </svg>\n",
              "      </button>\n",
              "\n",
              "\n",
              "\n",
              "    <div id=\"df-7fc080d3-fa10-4690-bcfe-af567bbad324\">\n",
              "      <button class=\"colab-df-quickchart\" onclick=\"quickchart('df-7fc080d3-fa10-4690-bcfe-af567bbad324')\"\n",
              "              title=\"Suggest charts.\"\n",
              "              style=\"display:none;\">\n",
              "\n",
              "<svg xmlns=\"http://www.w3.org/2000/svg\" height=\"24px\"viewBox=\"0 0 24 24\"\n",
              "     width=\"24px\">\n",
              "    <g>\n",
              "        <path d=\"M19 3H5c-1.1 0-2 .9-2 2v14c0 1.1.9 2 2 2h14c1.1 0 2-.9 2-2V5c0-1.1-.9-2-2-2zM9 17H7v-7h2v7zm4 0h-2V7h2v10zm4 0h-2v-4h2v4z\"/>\n",
              "    </g>\n",
              "</svg>\n",
              "      </button>\n",
              "    </div>\n",
              "\n",
              "<style>\n",
              "  .colab-df-quickchart {\n",
              "    background-color: #E8F0FE;\n",
              "    border: none;\n",
              "    border-radius: 50%;\n",
              "    cursor: pointer;\n",
              "    display: none;\n",
              "    fill: #1967D2;\n",
              "    height: 32px;\n",
              "    padding: 0 0 0 0;\n",
              "    width: 32px;\n",
              "  }\n",
              "\n",
              "  .colab-df-quickchart:hover {\n",
              "    background-color: #E2EBFA;\n",
              "    box-shadow: 0px 1px 2px rgba(60, 64, 67, 0.3), 0px 1px 3px 1px rgba(60, 64, 67, 0.15);\n",
              "    fill: #174EA6;\n",
              "  }\n",
              "\n",
              "  [theme=dark] .colab-df-quickchart {\n",
              "    background-color: #3B4455;\n",
              "    fill: #D2E3FC;\n",
              "  }\n",
              "\n",
              "  [theme=dark] .colab-df-quickchart:hover {\n",
              "    background-color: #434B5C;\n",
              "    box-shadow: 0px 1px 3px 1px rgba(0, 0, 0, 0.15);\n",
              "    filter: drop-shadow(0px 1px 2px rgba(0, 0, 0, 0.3));\n",
              "    fill: #FFFFFF;\n",
              "  }\n",
              "</style>\n",
              "\n",
              "    <script>\n",
              "      async function quickchart(key) {\n",
              "        const containerElement = document.querySelector('#' + key);\n",
              "        const charts = await google.colab.kernel.invokeFunction(\n",
              "            'suggestCharts', [key], {});\n",
              "      }\n",
              "    </script>\n",
              "\n",
              "      <script>\n",
              "\n",
              "function displayQuickchartButton(domScope) {\n",
              "  let quickchartButtonEl =\n",
              "    domScope.querySelector('#df-7fc080d3-fa10-4690-bcfe-af567bbad324 button.colab-df-quickchart');\n",
              "  quickchartButtonEl.style.display =\n",
              "    google.colab.kernel.accessAllowed ? 'block' : 'none';\n",
              "}\n",
              "\n",
              "        displayQuickchartButton(document);\n",
              "      </script>\n",
              "      <style>\n",
              "    .colab-df-container {\n",
              "      display:flex;\n",
              "      flex-wrap:wrap;\n",
              "      gap: 12px;\n",
              "    }\n",
              "\n",
              "    .colab-df-convert {\n",
              "      background-color: #E8F0FE;\n",
              "      border: none;\n",
              "      border-radius: 50%;\n",
              "      cursor: pointer;\n",
              "      display: none;\n",
              "      fill: #1967D2;\n",
              "      height: 32px;\n",
              "      padding: 0 0 0 0;\n",
              "      width: 32px;\n",
              "    }\n",
              "\n",
              "    .colab-df-convert:hover {\n",
              "      background-color: #E2EBFA;\n",
              "      box-shadow: 0px 1px 2px rgba(60, 64, 67, 0.3), 0px 1px 3px 1px rgba(60, 64, 67, 0.15);\n",
              "      fill: #174EA6;\n",
              "    }\n",
              "\n",
              "    [theme=dark] .colab-df-convert {\n",
              "      background-color: #3B4455;\n",
              "      fill: #D2E3FC;\n",
              "    }\n",
              "\n",
              "    [theme=dark] .colab-df-convert:hover {\n",
              "      background-color: #434B5C;\n",
              "      box-shadow: 0px 1px 3px 1px rgba(0, 0, 0, 0.15);\n",
              "      filter: drop-shadow(0px 1px 2px rgba(0, 0, 0, 0.3));\n",
              "      fill: #FFFFFF;\n",
              "    }\n",
              "  </style>\n",
              "\n",
              "      <script>\n",
              "        const buttonEl =\n",
              "          document.querySelector('#df-6b6aca4a-e9b2-4f12-9f1e-fb503dbe2a78 button.colab-df-convert');\n",
              "        buttonEl.style.display =\n",
              "          google.colab.kernel.accessAllowed ? 'block' : 'none';\n",
              "\n",
              "        async function convertToInteractive(key) {\n",
              "          const element = document.querySelector('#df-6b6aca4a-e9b2-4f12-9f1e-fb503dbe2a78');\n",
              "          const dataTable =\n",
              "            await google.colab.kernel.invokeFunction('convertToInteractive',\n",
              "                                                     [key], {});\n",
              "          if (!dataTable) return;\n",
              "\n",
              "          const docLinkHtml = 'Like what you see? Visit the ' +\n",
              "            '<a target=\"_blank\" href=https://colab.research.google.com/notebooks/data_table.ipynb>data table notebook</a>'\n",
              "            + ' to learn more about interactive tables.';\n",
              "          element.innerHTML = '';\n",
              "          dataTable['output_type'] = 'display_data';\n",
              "          await google.colab.output.renderOutput(dataTable, element);\n",
              "          const docLink = document.createElement('div');\n",
              "          docLink.innerHTML = docLinkHtml;\n",
              "          element.appendChild(docLink);\n",
              "        }\n",
              "      </script>\n",
              "    </div>\n",
              "  </div>\n"
            ]
          },
          "metadata": {},
          "execution_count": 19
        }
      ],
      "source": [
        "df.get_group(2)"
      ]
    },
    {
      "cell_type": "code",
      "execution_count": null,
      "metadata": {
        "colab": {
          "base_uri": "https://localhost:8080/",
          "height": 35
        },
        "id": "XQtD3ZbLiG7n",
        "outputId": "ee1e97fe-8861-4709-8741-3b3911c684f1"
      },
      "outputs": [
        {
          "output_type": "execute_result",
          "data": {
            "text/plain": [
              "'The'"
            ],
            "application/vnd.google.colaboratory.intrinsic+json": {
              "type": "string"
            }
          },
          "metadata": {},
          "execution_count": 20
        }
      ],
      "source": [
        "df.get_group(0)['words'][0]"
      ]
    },
    {
      "cell_type": "code",
      "execution_count": null,
      "metadata": {
        "colab": {
          "base_uri": "https://localhost:8080/"
        },
        "id": "6yVLGOcgX7UV",
        "outputId": "1d5d6a04-4500-47af-b41a-e95f59d22e43"
      },
      "outputs": [
        {
          "output_type": "stream",
          "name": "stdout",
          "text": [
            "Done\n"
          ]
        }
      ],
      "source": [
        "# We want every words of a sentence into an array\n",
        "# and their corresponding tags\n",
        "words = []\n",
        "tags = []\n",
        "tags_num = []\n",
        "for x in range(len(data['sentences'].unique())):\n",
        "  tmp =  []\n",
        "  for w in df.get_group(x)['words']:\n",
        "    tmp.append(w.lower())\n",
        "  if len(tmp) >= 900:\n",
        "    words.append(tmp[0:300])\n",
        "    words.append(tmp[300:600])\n",
        "    # words.append(tmp[600:900])\n",
        "  elif len(tmp) >= 600:\n",
        "    words.append(tmp[0:300])\n",
        "    words.append(tmp[300:600])\n",
        "    # words.append(tmp[600:len(tmp)])\n",
        "  elif len(tmp) >= 300:\n",
        "    words.append(tmp[0:300])\n",
        "    words.append(tmp[300:len(tmp)])\n",
        "  else :\n",
        "    words.append(tmp)\n",
        "\n",
        "  tmp = []\n",
        "  for t in df.get_group(x)['tags']:\n",
        "    tmp.append(t)\n",
        "  if len(tmp) >= 900:\n",
        "    tags.append(tmp[0:300])\n",
        "    tags.append(tmp[300:600])\n",
        "    # tags.append(tmp[600:900])\n",
        "  elif len(tmp) >= 600:\n",
        "    tags.append(tmp[0:300])\n",
        "    tags.append(tmp[300:600])\n",
        "    # tags.append(tmp[600:len(tmp)])\n",
        "  elif len(tmp) >= 300:\n",
        "    tags.append(tmp[0:300])\n",
        "    tags.append(tmp[300:len(tmp)])\n",
        "  else :\n",
        "    tags.append(tmp)\n",
        "\n",
        "  tmp = []\n",
        "  for t in df.get_group(x)['tags_num']:\n",
        "    tmp.append(t)\n",
        "  if len(tmp) >= 900:\n",
        "    tags_num.append(tmp[0:300])\n",
        "    tags_num.append(tmp[300:600])\n",
        "    # tags_num.append(tmp[600:900])\n",
        "  elif len(tmp) >= 600:\n",
        "    tags_num.append(tmp[0:300])\n",
        "    tags_num.append(tmp[300:600])\n",
        "    # tags_num.append(tmp[600:len(tmp)])\n",
        "  elif len(tmp) >= 300:\n",
        "    tags_num.append(tmp[0:300])\n",
        "    tags_num.append(tmp[300:len(tmp)])\n",
        "  else :\n",
        "    tags_num.append(tmp)\n",
        "\n",
        "\n",
        "words = pd.Series(words, name = 'words')\n",
        "tags = pd.Series(tags, name = 'tags')\n",
        "tags_num = pd.Series(tags_num, name = 'tags_num')\n",
        "\n",
        "print('Done')"
      ]
    },
    {
      "cell_type": "code",
      "execution_count": null,
      "metadata": {
        "id": "PR0PJi7vcc0n"
      },
      "outputs": [],
      "source": [
        "data = pd.DataFrame({'words':words, 'tags':tags, 'tags_num':tags_num})\n",
        "del(words, tags, tags_num)"
      ]
    },
    {
      "cell_type": "code",
      "source": [
        "data.to_csv('final_ner_data2.csv', index = False)"
      ],
      "metadata": {
        "id": "LBMWOa1xRprz"
      },
      "execution_count": null,
      "outputs": []
    },
    {
      "cell_type": "code",
      "execution_count": null,
      "metadata": {
        "colab": {
          "base_uri": "https://localhost:8080/",
          "height": 112
        },
        "id": "Xlmv98IsriMr",
        "outputId": "9bdfbf7d-2fb2-4952-e61d-7ce65429fab8"
      },
      "outputs": [
        {
          "output_type": "execute_result",
          "data": {
            "text/plain": [
              "                                               words  \\\n",
              "0  [the, oxford, companion, to, philosophy, says,...   \n",
              "1  [in, the, end, ,, for, anarchist, historian, d...   \n",
              "\n",
              "                                                tags  \\\n",
              "0  [I-MISC, I-MISC, I-MISC, I-MISC, I-MISC, O, O,...   \n",
              "1  [O, O, O, O, O, O, O, I-PER, I-PER, O, O, O, O...   \n",
              "\n",
              "                                            tags_num  \n",
              "0  [15, 15, 15, 15, 15, 20, 20, 20, 20, 20, 20, 2...  \n",
              "1  [20, 20, 20, 20, 20, 20, 20, 18, 18, 20, 20, 2...  "
            ],
            "text/html": [
              "\n",
              "\n",
              "  <div id=\"df-8f5bcd61-f39a-4f38-a9f5-60d6090f575c\">\n",
              "    <div class=\"colab-df-container\">\n",
              "      <div>\n",
              "<style scoped>\n",
              "    .dataframe tbody tr th:only-of-type {\n",
              "        vertical-align: middle;\n",
              "    }\n",
              "\n",
              "    .dataframe tbody tr th {\n",
              "        vertical-align: top;\n",
              "    }\n",
              "\n",
              "    .dataframe thead th {\n",
              "        text-align: right;\n",
              "    }\n",
              "</style>\n",
              "<table border=\"1\" class=\"dataframe\">\n",
              "  <thead>\n",
              "    <tr style=\"text-align: right;\">\n",
              "      <th></th>\n",
              "      <th>words</th>\n",
              "      <th>tags</th>\n",
              "      <th>tags_num</th>\n",
              "    </tr>\n",
              "  </thead>\n",
              "  <tbody>\n",
              "    <tr>\n",
              "      <th>0</th>\n",
              "      <td>[the, oxford, companion, to, philosophy, says,...</td>\n",
              "      <td>[I-MISC, I-MISC, I-MISC, I-MISC, I-MISC, O, O,...</td>\n",
              "      <td>[15, 15, 15, 15, 15, 20, 20, 20, 20, 20, 20, 2...</td>\n",
              "    </tr>\n",
              "    <tr>\n",
              "      <th>1</th>\n",
              "      <td>[in, the, end, ,, for, anarchist, historian, d...</td>\n",
              "      <td>[O, O, O, O, O, O, O, I-PER, I-PER, O, O, O, O...</td>\n",
              "      <td>[20, 20, 20, 20, 20, 20, 20, 18, 18, 20, 20, 2...</td>\n",
              "    </tr>\n",
              "  </tbody>\n",
              "</table>\n",
              "</div>\n",
              "      <button class=\"colab-df-convert\" onclick=\"convertToInteractive('df-8f5bcd61-f39a-4f38-a9f5-60d6090f575c')\"\n",
              "              title=\"Convert this dataframe to an interactive table.\"\n",
              "              style=\"display:none;\">\n",
              "\n",
              "  <svg xmlns=\"http://www.w3.org/2000/svg\" height=\"24px\"viewBox=\"0 0 24 24\"\n",
              "       width=\"24px\">\n",
              "    <path d=\"M0 0h24v24H0V0z\" fill=\"none\"/>\n",
              "    <path d=\"M18.56 5.44l.94 2.06.94-2.06 2.06-.94-2.06-.94-.94-2.06-.94 2.06-2.06.94zm-11 1L8.5 8.5l.94-2.06 2.06-.94-2.06-.94L8.5 2.5l-.94 2.06-2.06.94zm10 10l.94 2.06.94-2.06 2.06-.94-2.06-.94-.94-2.06-.94 2.06-2.06.94z\"/><path d=\"M17.41 7.96l-1.37-1.37c-.4-.4-.92-.59-1.43-.59-.52 0-1.04.2-1.43.59L10.3 9.45l-7.72 7.72c-.78.78-.78 2.05 0 2.83L4 21.41c.39.39.9.59 1.41.59.51 0 1.02-.2 1.41-.59l7.78-7.78 2.81-2.81c.8-.78.8-2.07 0-2.86zM5.41 20L4 18.59l7.72-7.72 1.47 1.35L5.41 20z\"/>\n",
              "  </svg>\n",
              "      </button>\n",
              "\n",
              "\n",
              "\n",
              "    <div id=\"df-ccc56392-dfbf-44ce-9485-2aee0c5db52a\">\n",
              "      <button class=\"colab-df-quickchart\" onclick=\"quickchart('df-ccc56392-dfbf-44ce-9485-2aee0c5db52a')\"\n",
              "              title=\"Suggest charts.\"\n",
              "              style=\"display:none;\">\n",
              "\n",
              "<svg xmlns=\"http://www.w3.org/2000/svg\" height=\"24px\"viewBox=\"0 0 24 24\"\n",
              "     width=\"24px\">\n",
              "    <g>\n",
              "        <path d=\"M19 3H5c-1.1 0-2 .9-2 2v14c0 1.1.9 2 2 2h14c1.1 0 2-.9 2-2V5c0-1.1-.9-2-2-2zM9 17H7v-7h2v7zm4 0h-2V7h2v10zm4 0h-2v-4h2v4z\"/>\n",
              "    </g>\n",
              "</svg>\n",
              "      </button>\n",
              "    </div>\n",
              "\n",
              "<style>\n",
              "  .colab-df-quickchart {\n",
              "    background-color: #E8F0FE;\n",
              "    border: none;\n",
              "    border-radius: 50%;\n",
              "    cursor: pointer;\n",
              "    display: none;\n",
              "    fill: #1967D2;\n",
              "    height: 32px;\n",
              "    padding: 0 0 0 0;\n",
              "    width: 32px;\n",
              "  }\n",
              "\n",
              "  .colab-df-quickchart:hover {\n",
              "    background-color: #E2EBFA;\n",
              "    box-shadow: 0px 1px 2px rgba(60, 64, 67, 0.3), 0px 1px 3px 1px rgba(60, 64, 67, 0.15);\n",
              "    fill: #174EA6;\n",
              "  }\n",
              "\n",
              "  [theme=dark] .colab-df-quickchart {\n",
              "    background-color: #3B4455;\n",
              "    fill: #D2E3FC;\n",
              "  }\n",
              "\n",
              "  [theme=dark] .colab-df-quickchart:hover {\n",
              "    background-color: #434B5C;\n",
              "    box-shadow: 0px 1px 3px 1px rgba(0, 0, 0, 0.15);\n",
              "    filter: drop-shadow(0px 1px 2px rgba(0, 0, 0, 0.3));\n",
              "    fill: #FFFFFF;\n",
              "  }\n",
              "</style>\n",
              "\n",
              "    <script>\n",
              "      async function quickchart(key) {\n",
              "        const containerElement = document.querySelector('#' + key);\n",
              "        const charts = await google.colab.kernel.invokeFunction(\n",
              "            'suggestCharts', [key], {});\n",
              "      }\n",
              "    </script>\n",
              "\n",
              "      <script>\n",
              "\n",
              "function displayQuickchartButton(domScope) {\n",
              "  let quickchartButtonEl =\n",
              "    domScope.querySelector('#df-ccc56392-dfbf-44ce-9485-2aee0c5db52a button.colab-df-quickchart');\n",
              "  quickchartButtonEl.style.display =\n",
              "    google.colab.kernel.accessAllowed ? 'block' : 'none';\n",
              "}\n",
              "\n",
              "        displayQuickchartButton(document);\n",
              "      </script>\n",
              "      <style>\n",
              "    .colab-df-container {\n",
              "      display:flex;\n",
              "      flex-wrap:wrap;\n",
              "      gap: 12px;\n",
              "    }\n",
              "\n",
              "    .colab-df-convert {\n",
              "      background-color: #E8F0FE;\n",
              "      border: none;\n",
              "      border-radius: 50%;\n",
              "      cursor: pointer;\n",
              "      display: none;\n",
              "      fill: #1967D2;\n",
              "      height: 32px;\n",
              "      padding: 0 0 0 0;\n",
              "      width: 32px;\n",
              "    }\n",
              "\n",
              "    .colab-df-convert:hover {\n",
              "      background-color: #E2EBFA;\n",
              "      box-shadow: 0px 1px 2px rgba(60, 64, 67, 0.3), 0px 1px 3px 1px rgba(60, 64, 67, 0.15);\n",
              "      fill: #174EA6;\n",
              "    }\n",
              "\n",
              "    [theme=dark] .colab-df-convert {\n",
              "      background-color: #3B4455;\n",
              "      fill: #D2E3FC;\n",
              "    }\n",
              "\n",
              "    [theme=dark] .colab-df-convert:hover {\n",
              "      background-color: #434B5C;\n",
              "      box-shadow: 0px 1px 3px 1px rgba(0, 0, 0, 0.15);\n",
              "      filter: drop-shadow(0px 1px 2px rgba(0, 0, 0, 0.3));\n",
              "      fill: #FFFFFF;\n",
              "    }\n",
              "  </style>\n",
              "\n",
              "      <script>\n",
              "        const buttonEl =\n",
              "          document.querySelector('#df-8f5bcd61-f39a-4f38-a9f5-60d6090f575c button.colab-df-convert');\n",
              "        buttonEl.style.display =\n",
              "          google.colab.kernel.accessAllowed ? 'block' : 'none';\n",
              "\n",
              "        async function convertToInteractive(key) {\n",
              "          const element = document.querySelector('#df-8f5bcd61-f39a-4f38-a9f5-60d6090f575c');\n",
              "          const dataTable =\n",
              "            await google.colab.kernel.invokeFunction('convertToInteractive',\n",
              "                                                     [key], {});\n",
              "          if (!dataTable) return;\n",
              "\n",
              "          const docLinkHtml = 'Like what you see? Visit the ' +\n",
              "            '<a target=\"_blank\" href=https://colab.research.google.com/notebooks/data_table.ipynb>data table notebook</a>'\n",
              "            + ' to learn more about interactive tables.';\n",
              "          element.innerHTML = '';\n",
              "          dataTable['output_type'] = 'display_data';\n",
              "          await google.colab.output.renderOutput(dataTable, element);\n",
              "          const docLink = document.createElement('div');\n",
              "          docLink.innerHTML = docLinkHtml;\n",
              "          element.appendChild(docLink);\n",
              "        }\n",
              "      </script>\n",
              "    </div>\n",
              "  </div>\n"
            ]
          },
          "metadata": {},
          "execution_count": 24
        }
      ],
      "source": [
        "df = data.copy()\n",
        "df.head(2)"
      ]
    },
    {
      "cell_type": "code",
      "execution_count": null,
      "metadata": {
        "colab": {
          "base_uri": "https://localhost:8080/",
          "height": 53
        },
        "id": "g3F238MKe46l",
        "outputId": "82701e7c-6650-423a-aa61-9cca3cae624f"
      },
      "outputs": [
        {
          "output_type": "execute_result",
          "data": {
            "text/plain": [
              "'the oxford companion to philosophy says , \" there is no single defining position that all anarchists hold , and those considered anarchists at best share a certain family resemblance . \"'"
            ],
            "application/vnd.google.colaboratory.intrinsic+json": {
              "type": "string"
            }
          },
          "metadata": {},
          "execution_count": 25
        }
      ],
      "source": [
        "\" \".join(df['words'][0])"
      ]
    },
    {
      "cell_type": "markdown",
      "metadata": {
        "id": "KG7MkRIDqu7M"
      },
      "source": [
        "# Word2Vec embedding"
      ]
    },
    {
      "cell_type": "code",
      "execution_count": null,
      "metadata": {
        "id": "UCNYTGTUoRwt"
      },
      "outputs": [],
      "source": [
        "wvmodel = gensim.models.Word2Vec(window=4, min_count=1, vector_size = 64)\n",
        "wvmodel.build_vocab(df['words'])\n",
        "# Un-comment the following line if you want word2vec embedding for model and use \"first way\" in the later step\n",
        "# model.train(words, epochs = 10, total_examples=model.corpus_count)"
      ]
    },
    {
      "cell_type": "code",
      "execution_count": null,
      "metadata": {
        "id": "txDJUqvrsEdk"
      },
      "outputs": [],
      "source": [
        "# model.wv.most_similar(['facebook'])"
      ]
    },
    {
      "cell_type": "code",
      "execution_count": null,
      "metadata": {
        "id": "NM7X8FUiVq2a"
      },
      "outputs": [],
      "source": [
        "wvmodel.save('w2vmodel_ner.bin')"
      ]
    },
    {
      "cell_type": "markdown",
      "metadata": {
        "id": "-k9HatkZV24x"
      },
      "source": [
        "# MODEL"
      ]
    },
    {
      "cell_type": "code",
      "source": [
        "df = pd.read_csv('final_ner_data.csv')\n",
        "df['words'] = df['words'].apply(lambda x : eval(x))\n",
        "df['tags_num'] = df['tags_num'].apply(lambda x : eval(x))"
      ],
      "metadata": {
        "id": "2ZL23JkM5PB9"
      },
      "execution_count": null,
      "outputs": []
    },
    {
      "cell_type": "code",
      "source": [
        "wvmodel = gensim.models.Word2Vec.load('w2vmodel_ner.bin')"
      ],
      "metadata": {
        "id": "NoTO3ltkvnk1"
      },
      "execution_count": null,
      "outputs": []
    },
    {
      "cell_type": "markdown",
      "metadata": {
        "id": "nN1er02_n9_c"
      },
      "source": [
        "## : Pre stage"
      ]
    },
    {
      "cell_type": "code",
      "execution_count": null,
      "metadata": {
        "colab": {
          "base_uri": "https://localhost:8080/"
        },
        "id": "XPVaKk0JZ67J",
        "outputId": "cc96326d-52dd-4a33-f269-7f3bceef77a0"
      },
      "outputs": [
        {
          "output_type": "execute_result",
          "data": {
            "text/plain": [
              "0    [the, oxford, companion, to, philosophy, says,...\n",
              "1    [in, the, end, ,, for, anarchist, historian, d...\n",
              "Name: words, dtype: object"
            ]
          },
          "metadata": {},
          "execution_count": 12
        }
      ],
      "source": [
        "df['words'].head(2)"
      ]
    },
    {
      "cell_type": "markdown",
      "metadata": {
        "id": "3GvSD_wXj1OG"
      },
      "source": [
        "<h4> Here we have 2 ways : Either assign corresponding vector or correspond index of the word"
      ]
    },
    {
      "cell_type": "code",
      "execution_count": null,
      "metadata": {
        "id": "-1vcqkXkWGDL"
      },
      "outputs": [],
      "source": [
        "# # First way : assigning vectors of the words\n",
        "# def vectorizer(X):\n",
        "#   X = [model.wv[word] for word in X]\n",
        "#   return X\n",
        "\n",
        "# words_vectored = words.apply(vectorizer)\n"
      ]
    },
    {
      "cell_type": "code",
      "execution_count": null,
      "metadata": {
        "id": "F6KZLUFRkE3F"
      },
      "outputs": [],
      "source": [
        "# Second way : assigning index of the words\n",
        "indexof = wvmodel.wv.key_to_index\n",
        "def vectorizer(X):\n",
        "  X = [indexof[word] for word in X]\n",
        "  return X\n",
        "\n",
        "words_vectored = df['words'].apply(vectorizer)\n"
      ]
    },
    {
      "cell_type": "code",
      "source": [
        "from keras.utils import to_categorical"
      ],
      "metadata": {
        "id": "vuoqVr-dkbPY"
      },
      "execution_count": null,
      "outputs": []
    },
    {
      "cell_type": "code",
      "execution_count": null,
      "metadata": {
        "colab": {
          "base_uri": "https://localhost:8080/"
        },
        "id": "mmTvkV32fjqg",
        "outputId": "bd2aab5d-69c2-4280-98dc-017095726400"
      },
      "outputs": [
        {
          "output_type": "stream",
          "name": "stdout",
          "text": [
            "300\n"
          ]
        }
      ],
      "source": [
        "# We need to use padded sequence\n",
        "max_len = max([len(X) for X in df['words']])\n",
        "print(max_len)\n",
        "#\n",
        "words_vectored_padded = pad_sequences(words_vectored[0:120000], maxlen= max_len, padding = 'post', truncating = 'post', value = indexof['.'])\n",
        "labels_padded = pad_sequences(df['tags_num'][0:120000], maxlen= max_len, padding = 'post', truncating = 'post', value = 20)\n",
        "# labels_padded = np.array([to_categorical(i, num_classes=len(tagsLabel)) for i in labels_padded])\n",
        "labels_padded = np.array([to_categorical(i, num_classes=21) for i in labels_padded])"
      ]
    },
    {
      "cell_type": "code",
      "source": [],
      "metadata": {
        "id": "D2Uc2WoEUyit"
      },
      "execution_count": null,
      "outputs": []
    },
    {
      "cell_type": "code",
      "execution_count": null,
      "metadata": {
        "id": "tHP0P9JYoYNr"
      },
      "outputs": [],
      "source": [
        "# train test split\n",
        "from sklearn.model_selection import train_test_split\n",
        "\n",
        "xtrain, xtest, ytrain, ytest = train_test_split(words_vectored_padded, labels_padded, test_size=0.3, random_state=42)\n"
      ]
    },
    {
      "cell_type": "code",
      "source": [
        "# del(words_vectored, data, words_vectored_padded, labels_padded)\n",
        "del(words_vectored, words_vectored_padded, labels_padded)"
      ],
      "metadata": {
        "id": "Mlw0IJreJ-lU"
      },
      "execution_count": null,
      "outputs": []
    },
    {
      "cell_type": "code",
      "source": [
        "print(xtrain.shape)\n",
        "print(ytrain.shape)"
      ],
      "metadata": {
        "colab": {
          "base_uri": "https://localhost:8080/"
        },
        "id": "xH6Al_lJlfQX",
        "outputId": "28ad6800-3356-4e4d-b6fa-6cf09e713d26"
      },
      "execution_count": null,
      "outputs": [
        {
          "output_type": "stream",
          "name": "stdout",
          "text": [
            "(84000, 300)\n",
            "(84000, 300, 21)\n"
          ]
        }
      ]
    },
    {
      "cell_type": "markdown",
      "metadata": {
        "id": "wa3u7R-xoCRp"
      },
      "source": [
        "## : Final stage"
      ]
    },
    {
      "cell_type": "markdown",
      "source": [
        "### Fine from here"
      ],
      "metadata": {
        "id": "EGgundn3vEz2"
      }
    },
    {
      "cell_type": "code",
      "source": [
        "tagsName = ['I-MISC', 'O', 'I-PER', 'I-ORG', 'I-LOC', 'B-MISC', 'B-PER',\n",
        "       'B-LOC', 'B-ORG', 'B-GEO', 'B-GPE', 'I-GEO', 'B-TIM', 'B-ART',\n",
        "       'I-ART', 'I-GPE', 'I-TIM', 'B-NAT', 'B-EVE', 'I-EVE', 'I-NAT']\n",
        "tagsLabel = [15, 20, 18, 17, 14,  5,  8,  4,  7,  2,  3, 12,  9,  0, 10, 13, 19,\n",
        "        6,  1, 11, 16]"
      ],
      "metadata": {
        "id": "ogGvvyioWiam"
      },
      "execution_count": null,
      "outputs": []
    },
    {
      "cell_type": "code",
      "execution_count": null,
      "metadata": {
        "colab": {
          "base_uri": "https://localhost:8080/"
        },
        "id": "R9wOa-BMsAmo",
        "outputId": "5e5efb61-8877-4104-c645-c1df5c96390b"
      },
      "outputs": [
        {
          "output_type": "stream",
          "name": "stdout",
          "text": [
            "['I-MISC', 'O', 'I-PER', 'I-ORG', 'I-LOC', 'B-MISC', 'B-PER', 'B-LOC', 'B-ORG', 'B-GEO', 'B-GPE', 'I-GEO', 'B-TIM', 'B-ART', 'I-ART', 'I-GPE', 'I-TIM', 'B-NAT', 'B-EVE', 'I-EVE', 'I-NAT']\n",
            "[15, 20, 18, 17, 14, 5, 8, 4, 7, 2, 3, 12, 9, 0, 10, 13, 19, 6, 1, 11, 16]\n",
            "Total :  21\n"
          ]
        }
      ],
      "source": [
        "print(tagsName)\n",
        "print(tagsLabel)\n",
        "print(\"Total : \",len(tagsLabel))"
      ]
    },
    {
      "cell_type": "code",
      "source": [
        "xtrain[0].shape"
      ],
      "metadata": {
        "colab": {
          "base_uri": "https://localhost:8080/"
        },
        "id": "t8U3b-E2agXM",
        "outputId": "fb76b7fa-ead8-4429-cb3d-f24b78b75652"
      },
      "execution_count": null,
      "outputs": [
        {
          "output_type": "execute_result",
          "data": {
            "text/plain": [
              "(300,)"
            ]
          },
          "metadata": {},
          "execution_count": 22
        }
      ]
    },
    {
      "cell_type": "code",
      "source": [
        "ytrain[0].shape"
      ],
      "metadata": {
        "colab": {
          "base_uri": "https://localhost:8080/"
        },
        "id": "AY60TC2fa231",
        "outputId": "4800588f-595a-46ae-efae-256aab74556a"
      },
      "execution_count": null,
      "outputs": [
        {
          "output_type": "execute_result",
          "data": {
            "text/plain": [
              "(300, 21)"
            ]
          },
          "metadata": {},
          "execution_count": 23
        }
      ]
    },
    {
      "cell_type": "code",
      "source": [
        "len(wvmodel.wv.index_to_key)"
      ],
      "metadata": {
        "colab": {
          "base_uri": "https://localhost:8080/"
        },
        "id": "Y3RnaE_ebrO1",
        "outputId": "518e63c4-850b-4a32-b3f1-71b00c64f46b"
      },
      "execution_count": null,
      "outputs": [
        {
          "output_type": "execute_result",
          "data": {
            "text/plain": [
              "117936"
            ]
          },
          "metadata": {},
          "execution_count": 42
        }
      ]
    },
    {
      "cell_type": "code",
      "execution_count": null,
      "metadata": {
        "id": "J95ayA3poGPS",
        "colab": {
          "base_uri": "https://localhost:8080/"
        },
        "outputId": "27ceb511-bd1d-4da4-bbb1-d017e090b28c"
      },
      "outputs": [
        {
          "output_type": "stream",
          "name": "stdout",
          "text": [
            "Epoch 1/4\n",
            "2625/2625 [==============================] - 120s 42ms/step - loss: 0.0367 - accuracy: 0.9916\n",
            "Epoch 2/4\n",
            "2625/2625 [==============================] - 68s 26ms/step - loss: 0.0121 - accuracy: 0.9963\n",
            "Epoch 3/4\n",
            "2625/2625 [==============================] - 68s 26ms/step - loss: 0.0086 - accuracy: 0.9973\n",
            "Epoch 4/4\n",
            "2625/2625 [==============================] - 65s 25ms/step - loss: 0.0066 - accuracy: 0.9979\n"
          ]
        },
        {
          "output_type": "execute_result",
          "data": {
            "text/plain": [
              "<keras.callbacks.History at 0x7ae435a6a320>"
            ]
          },
          "metadata": {},
          "execution_count": 22
        }
      ],
      "source": [
        "# callback function\n",
        "early_stopping = EarlyStopping(monitor='loss', patience=3)\n",
        "\n",
        "\n",
        "# model\n",
        "ner_model = tf.keras.Sequential([\n",
        "    keras.layers.Embedding(len(wvmodel.wv.index_to_key), 64, input_length = max_len),\n",
        "    keras.layers.Bidirectional(keras.layers.LSTM(128, return_sequences=True)),\n",
        "    keras.layers.Dropout(0.3),\n",
        "    keras.layers.TimeDistributed(keras.layers.Dense(len(tagsLabel), activation='softmax')),\n",
        "    # keras.layers.TimeDistributed(keras.layers.Dense(21, activation='softmax')),\n",
        "])\n",
        "\n",
        "ner_model.compile(optimizer='adam', loss='categorical_crossentropy', metrics=['accuracy'])\n",
        "ner_model.fit(xtrain, ytrain, batch_size = 32, epochs = 4, callbacks = [early_stopping])"
      ]
    },
    {
      "cell_type": "code",
      "execution_count": null,
      "metadata": {
        "id": "RHHblIYAtuoo"
      },
      "outputs": [],
      "source": [
        "# ypred = np.round(ner_model.predict(xtest))"
      ]
    },
    {
      "cell_type": "code",
      "source": [
        "# ner_model.summary()"
      ],
      "metadata": {
        "id": "Iv_ap23zO_CE"
      },
      "execution_count": null,
      "outputs": []
    },
    {
      "cell_type": "code",
      "source": [
        "ner_model.evaluate(xtest, ytest)"
      ],
      "metadata": {
        "colab": {
          "base_uri": "https://localhost:8080/"
        },
        "id": "dpIrxoBbPci1",
        "outputId": "e2531252-e356-478f-9156-9c379d5275b5"
      },
      "execution_count": null,
      "outputs": [
        {
          "output_type": "stream",
          "name": "stdout",
          "text": [
            "1125/1125 [==============================] - 12s 10ms/step - loss: 0.0129 - accuracy: 0.9965\n"
          ]
        },
        {
          "output_type": "execute_result",
          "data": {
            "text/plain": [
              "[0.012883535586297512, 0.9964663982391357]"
            ]
          },
          "metadata": {},
          "execution_count": 27
        }
      ]
    },
    {
      "cell_type": "code",
      "source": [],
      "metadata": {
        "id": "iZV04ocC2bXr"
      },
      "execution_count": null,
      "outputs": []
    },
    {
      "cell_type": "markdown",
      "source": [
        "### test"
      ],
      "metadata": {
        "id": "UswwlruG2cNZ"
      }
    },
    {
      "cell_type": "code",
      "source": [
        "tagsDict = {}\n",
        "for x,y in zip(tagsLabel, tagsName):\n",
        "  tagsDict[x] = y"
      ],
      "metadata": {
        "id": "IEzgECbzn7jt"
      },
      "execution_count": null,
      "outputs": []
    },
    {
      "cell_type": "code",
      "source": [],
      "metadata": {
        "id": "DwtiFe9B5dE4"
      },
      "execution_count": null,
      "outputs": []
    },
    {
      "cell_type": "code",
      "source": [],
      "metadata": {
        "id": "gKcud06k5dBv"
      },
      "execution_count": null,
      "outputs": []
    },
    {
      "cell_type": "markdown",
      "source": [
        "👇 This are some important functions for this dataset - To test a single string"
      ],
      "metadata": {
        "id": "JAEenCGH5SwP"
      }
    },
    {
      "cell_type": "code",
      "source": [
        "# Few more necessary Preprocessing\n",
        "stop_words = ['a', 'an', 'the', 'is', 'am', 'are', 'was', 'were', 'might', 'must','and', 'or', 'either', 'neither']\n",
        "\n",
        "# Important preprocessing functions for this dataset\n",
        "\n",
        "def preprocessing_data(X):\n",
        "  X = contractions.fix(X.lower())\n",
        "  X = re.sub(r'[^\\w\\s.]', '', X)\n",
        "  X = re.sub(r'\\s+', ' ', X)\n",
        "  X = word_tokenize(X)\n",
        "  # lemm = WordNetLemmatizer()\n",
        "  # X = [lemm.lemmatize(word) for word in X if word not in stop_words]\n",
        "  # X = [word for word in X if word not in stop_words]\n",
        "  return X\n",
        "\n",
        "\n",
        "def predict(X:str):\n",
        "  X = preprocessing_data(X)\n",
        "  txt = X\n",
        "  worddict = wvmodel.wv.key_to_index\n",
        "  maxlen = ner_model.get_build_config()['input_shape'][1]\n",
        "  X = np.array([worddict[x] if x in worddict.keys() else worddict['.'] for x in X])\n",
        "  X = pad_sequences([X], maxlen=maxlen, padding = 'post')\n",
        "\n",
        "  # prediction\n",
        "  X = ner_model.predict(X, verbose=0)\n",
        "  X = np.round(X)\n",
        "  tags_num = []\n",
        "  tags_name = []\n",
        "  for i in X[0][0:len(txt)]:\n",
        "    j_index = 0\n",
        "    for j in i:\n",
        "      if j == 1 :\n",
        "        tags_num.append(j_index)\n",
        "        tags_name.append(tagsDict[j_index])\n",
        "      j_index+=1\n",
        "\n",
        "  return (np.array(tags_name), np.array(tags_num))\n",
        "\n",
        "\n",
        "\n",
        "\n",
        "def getEntity(String:str):\n",
        "  tags,tagsnum = predict(String)\n",
        "  String = preprocessing_data(String)\n",
        "  print(String)\n",
        "  print(\"-- Entities -- \")\n",
        "  cout = 1\n",
        "  tmp = ' '\n",
        "  init = 0\n",
        "  for i in range(len(tags)):\n",
        "    if tags[i] != \"O\":\n",
        "      if tmp != tags[i].split('-')[1]:\n",
        "        if cout>1:\n",
        "          print((\" \".join(String[init : init+cout])).capitalize(), \" : \", tmp)\n",
        "        tmp = tags[i].split('-')[1]\n",
        "        init = i\n",
        "        cout = 1\n",
        "      else :\n",
        "        cout+=1\n",
        "    else:\n",
        "      if cout>1:\n",
        "          print((\" \".join(String[init : init+cout])).capitalize(), \" : \", tmp)\n",
        "          cout = 1\n",
        "          tmp = ' '\n"
      ],
      "metadata": {
        "id": "lpjqg_sn2imK"
      },
      "execution_count": null,
      "outputs": []
    },
    {
      "cell_type": "code",
      "source": [
        "getEntity(\"Albert Einstein was born on March 14, 1879, in Ulm, Germany. He was a renowned physicist known for his theory of relativity. Einstein spent a significant part of his career at the Institute for Advanced Study in Princeton, New Jersey. He was awarded the Nobel Prize in Physics in 1921.\")"
      ],
      "metadata": {
        "colab": {
          "base_uri": "https://localhost:8080/"
        },
        "id": "CY9EnjP-Eb2e",
        "outputId": "044fc059-5d2b-4f62-d205-3baa22809989"
      },
      "execution_count": null,
      "outputs": [
        {
          "output_type": "stream",
          "name": "stdout",
          "text": [
            "['albert', 'einstein', 'was', 'born', 'on', 'march', '14', '1879', 'in', 'ulm', 'germany', '.', 'he', 'was', 'a', 'renowned', 'physicist', 'known', 'for', 'his', 'theory', 'of', 'relativity', '.', 'einstein', 'spent', 'a', 'significant', 'part', 'of', 'his', 'career', 'at', 'the', 'institute', 'for', 'advanced', 'study', 'in', 'princeton', 'new', 'jersey', '.', 'he', 'was', 'awarded', 'the', 'nobel', 'prize', 'in', 'physics', 'in', '1921', '.']\n",
            "-- Entities -- \n",
            "Albert einstein  :  PER\n",
            "Ulm germany  :  LOC\n",
            "Institute for advanced study  :  LOC\n",
            "Princeton new jersey  :  LOC\n",
            "Nobel prize in physics  :  MISC\n"
          ]
        }
      ]
    },
    {
      "cell_type": "markdown",
      "source": [
        "### MOdel saving"
      ],
      "metadata": {
        "id": "4QEFGsr62rMx"
      }
    },
    {
      "cell_type": "code",
      "source": [
        "ner_model.save('NER_MODEL.h5')"
      ],
      "metadata": {
        "id": "58fzdU5eQxZV"
      },
      "execution_count": null,
      "outputs": []
    },
    {
      "cell_type": "code",
      "source": [],
      "metadata": {
        "id": "iGrUan4aQ92l"
      },
      "execution_count": null,
      "outputs": []
    }
  ],
  "metadata": {
    "colab": {
      "collapsed_sections": [
        "Com57EARNtVS",
        "sTIKJaH7FRNn",
        "KG7MkRIDqu7M",
        "nN1er02_n9_c"
      ],
      "provenance": [],
      "gpuType": "T4",
      "mount_file_id": "1mHmiSfk6VTE1XV7SdkJFE-ZFAAUDHdAe",
      "authorship_tag": "ABX9TyNa0IuHfuJeMBp9oCbVScea",
      "include_colab_link": true
    },
    "kernelspec": {
      "display_name": "Python 3",
      "name": "python3"
    },
    "language_info": {
      "name": "python"
    },
    "accelerator": "GPU"
  },
  "nbformat": 4,
  "nbformat_minor": 0
}